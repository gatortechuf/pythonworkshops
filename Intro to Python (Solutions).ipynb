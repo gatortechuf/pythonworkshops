{
 "cells": [
  {
   "cell_type": "markdown",
   "metadata": {},
   "source": [
    "# Intro to Python\n",
    "\n",
    "**Python** is an object-oriented programming language. *Objects* contain functions (also known as methods) and attributes. Python is a simple yet powerful language. Python can be used for web, desktop, and mobile app development. Other uses include scientific computing and automation. Python has a different syntax than languages like Java as it does not use braces (`{}`) or semicolons. Instead, Python uses indentation/white space to signify separate blocks of code.\n",
    "\n",
    "For this workshop we are using Jupyter Notebooks. These notebooks allow you to write and execute code inside of your web browser, giving you immediate output. This is good for learning as you can quickly try out new things. \n",
    "\n",
    "**Important hotkeys for Jupyter Notebooks**\n",
    "- `enter`: begin editing the selected cell\n",
    "- `shift+enter`: execute the selected cell\n",
    "\n",
    "## Getting Started"
   ]
  },
  {
   "cell_type": "code",
   "execution_count": 7,
   "metadata": {
    "collapsed": false
   },
   "outputs": [
    {
     "name": "stdout",
     "output_type": "stream",
     "text": [
      "Hello, world!\n"
     ]
    }
   ],
   "source": [
    "print(\"Hello, world!\")"
   ]
  },
  {
   "cell_type": "markdown",
   "metadata": {},
   "source": [
    "`print()` is an example of a *function*. Functions are pieces of code that we can run at any time, simply by calling their name. Functions can take *arguments*, allowing the function to change its output based on the argument. Later on we will create our own functions.\n",
    "\n",
    "In this case, the name of the function is `print()` and the argument is `\"hi\"`. \n",
    "\n",
    "We can change the argument to print out anything we want."
   ]
  },
  {
   "cell_type": "code",
   "execution_count": 1,
   "metadata": {
    "collapsed": false
   },
   "outputs": [
    {
     "name": "stdout",
     "output_type": "stream",
     "text": [
      "Bye\n"
     ]
    }
   ],
   "source": [
    "print(\"Bye\")"
   ]
  },
  {
   "cell_type": "markdown",
   "metadata": {},
   "source": [
    "We can also print out numbers, without needing to use quotations. We'll talk more about data types in the next section."
   ]
  },
  {
   "cell_type": "code",
   "execution_count": 2,
   "metadata": {
    "collapsed": false
   },
   "outputs": [
    {
     "name": "stdout",
     "output_type": "stream",
     "text": [
      "1\n"
     ]
    }
   ],
   "source": [
    "print(1)"
   ]
  },
  {
   "cell_type": "markdown",
   "metadata": {},
   "source": [
    "### Comments\n",
    "\n",
    "Comments allow you to annotate your code without affecting how the code runs."
   ]
  },
  {
   "cell_type": "code",
   "execution_count": 10,
   "metadata": {
    "collapsed": false
   },
   "outputs": [
    {
     "name": "stdout",
     "output_type": "stream",
     "text": [
      "This is not a comment\n"
     ]
    }
   ],
   "source": [
    "# This is a single line comment\n",
    "\n",
    "'''This is\n",
    "a multi-line\n",
    "comment'''\n",
    "\n",
    "print(\"This is not a comment\")"
   ]
  },
  {
   "cell_type": "markdown",
   "metadata": {},
   "source": [
    "### When should you comment?\n",
    "\n",
    "Comments should be using sparingly. Use comments to explain *why* rather than *how* you did something."
   ]
  },
  {
   "cell_type": "markdown",
   "metadata": {},
   "source": [
    "## Variables\n",
    "\n",
    "Using *variables*, we can give a value a name. Assigning this value to a name is called *assigning a variable*. Once you assign a variable, you can get the value when needed.\n",
    "\n",
    "We define variables using the notation `name = value` "
   ]
  },
  {
   "cell_type": "code",
   "execution_count": 12,
   "metadata": {
    "collapsed": true
   },
   "outputs": [],
   "source": [
    "a = 1\n",
    "b = \"One\""
   ]
  },
  {
   "cell_type": "markdown",
   "metadata": {},
   "source": [
    "We can see that the variable \"a\" has been assigned the value of 1. \"b\" has been assigned the value of \"One\".\n",
    "\n",
    "These values can be displayed using the `print()` function."
   ]
  },
  {
   "cell_type": "code",
   "execution_count": 13,
   "metadata": {
    "collapsed": false
   },
   "outputs": [
    {
     "name": "stdout",
     "output_type": "stream",
     "text": [
      "1\n",
      "One\n"
     ]
    }
   ],
   "source": [
    "print(a)\n",
    "print(b)"
   ]
  },
  {
   "cell_type": "markdown",
   "metadata": {},
   "source": [
    "## Data Types\n",
    "\n",
    "### Strings\n",
    "\n",
    "Strings can contain both letters and numbers. They are declared by using quotation marks around your value. You can think of a string as a word or sentence. Earlier when we did `print(\"Hello, world!\")`, we were printing out a string."
   ]
  },
  {
   "cell_type": "code",
   "execution_count": 7,
   "metadata": {
    "collapsed": false
   },
   "outputs": [
    {
     "name": "stdout",
     "output_type": "stream",
     "text": [
      "This is a string\n"
     ]
    }
   ],
   "source": [
    "a = \"This is a string\"\n",
    "print(a)"
   ]
  },
  {
   "cell_type": "markdown",
   "metadata": {},
   "source": [
    "We can get the type of a variable by using the `type()` function."
   ]
  },
  {
   "cell_type": "code",
   "execution_count": 8,
   "metadata": {
    "collapsed": false
   },
   "outputs": [
    {
     "name": "stdout",
     "output_type": "stream",
     "text": [
      "<class 'str'>\n"
     ]
    }
   ],
   "source": [
    "print(type(a))"
   ]
  },
  {
   "cell_type": "markdown",
   "metadata": {},
   "source": [
    "Strings can be \"added\" together, or concatenated. We can define a new string that is just a period, and use that to end our sentence."
   ]
  },
  {
   "cell_type": "code",
   "execution_count": 9,
   "metadata": {
    "collapsed": false
   },
   "outputs": [
    {
     "name": "stdout",
     "output_type": "stream",
     "text": [
      "This is a string.\n"
     ]
    }
   ],
   "source": [
    "b = \".\"\n",
    "print(a + b)"
   ]
  },
  {
   "cell_type": "markdown",
   "metadata": {},
   "source": [
    "### Integers and Floats (Numbers)\n",
    "\n",
    "Integers are just as easy as strings. The only difference is when using integers, you do not need quotation marks."
   ]
  },
  {
   "cell_type": "code",
   "execution_count": 10,
   "metadata": {
    "collapsed": false
   },
   "outputs": [
    {
     "name": "stdout",
     "output_type": "stream",
     "text": [
      "3\n",
      "<class 'int'>\n"
     ]
    }
   ],
   "source": [
    "c = 3\n",
    "print(c)\n",
    "print(type(c))"
   ]
  },
  {
   "cell_type": "markdown",
   "metadata": {},
   "source": [
    "If you add a decimal, the datatype switches from `int` to `float`."
   ]
  },
  {
   "cell_type": "code",
   "execution_count": 11,
   "metadata": {
    "collapsed": false
   },
   "outputs": [
    {
     "name": "stdout",
     "output_type": "stream",
     "text": [
      "4.2\n",
      "<class 'float'>\n"
     ]
    }
   ],
   "source": [
    "d = 4.2\n",
    "print(d)\n",
    "print(type(d))"
   ]
  },
  {
   "cell_type": "markdown",
   "metadata": {},
   "source": [
    "Unlike languages such as Java and C++, Python does not require you to explicitly  state the type of a variable. However, Python will not automatically convert all data types. Converting data types automatically is called *implicit conversion*."
   ]
  },
  {
   "cell_type": "code",
   "execution_count": 12,
   "metadata": {
    "collapsed": false
   },
   "outputs": [
    {
     "ename": "TypeError",
     "evalue": "Can't convert 'int' object to str implicitly",
     "output_type": "error",
     "traceback": [
      "\u001b[1;31m---------------------------------------------------------------------------\u001b[0m",
      "\u001b[1;31mTypeError\u001b[0m                                 Traceback (most recent call last)",
      "\u001b[1;32m<ipython-input-12-36ed1e95ada7>\u001b[0m in \u001b[0;36m<module>\u001b[1;34m()\u001b[0m\n\u001b[1;32m----> 1\u001b[1;33m \u001b[0mprint\u001b[0m\u001b[1;33m(\u001b[0m\u001b[0ma\u001b[0m \u001b[1;33m+\u001b[0m \u001b[0mc\u001b[0m\u001b[1;33m)\u001b[0m\u001b[1;33m\u001b[0m\u001b[0m\n\u001b[0m",
      "\u001b[1;31mTypeError\u001b[0m: Can't convert 'int' object to str implicitly"
     ]
    }
   ],
   "source": [
    "print(a + c)"
   ]
  },
  {
   "cell_type": "markdown",
   "metadata": {},
   "source": [
    "We can use the `str()` function to correct the error."
   ]
  },
  {
   "cell_type": "code",
   "execution_count": 13,
   "metadata": {
    "collapsed": false
   },
   "outputs": [
    {
     "name": "stdout",
     "output_type": "stream",
     "text": [
      "This is a string3\n"
     ]
    }
   ],
   "source": [
    "print(a + str(c))"
   ]
  },
  {
   "cell_type": "markdown",
   "metadata": {},
   "source": [
    "Some data types, like `ints` and `floats` can be added together. This because `ints` and `floats` are both *numbers*."
   ]
  },
  {
   "cell_type": "code",
   "execution_count": 14,
   "metadata": {
    "collapsed": false
   },
   "outputs": [
    {
     "name": "stdout",
     "output_type": "stream",
     "text": [
      "7.2\n"
     ]
    }
   ],
   "source": [
    "print(c + d)"
   ]
  },
  {
   "cell_type": "markdown",
   "metadata": {},
   "source": [
    "We can also do basic math."
   ]
  },
  {
   "cell_type": "code",
   "execution_count": 15,
   "metadata": {
    "collapsed": false
   },
   "outputs": [
    {
     "name": "stdout",
     "output_type": "stream",
     "text": [
      "11\n"
     ]
    }
   ],
   "source": [
    "e = c * 3 + 2\n",
    "print(e)"
   ]
  },
  {
   "cell_type": "markdown",
   "metadata": {},
   "source": [
    "### Booleans\n",
    "\n",
    "Booleans evaluate to `true` or `false`. These are useful for flow control, which we will talk about later."
   ]
  },
  {
   "cell_type": "code",
   "execution_count": 20,
   "metadata": {
    "collapsed": false
   },
   "outputs": [
    {
     "data": {
      "text/plain": [
       "True"
      ]
     },
     "execution_count": 20,
     "metadata": {},
     "output_type": "execute_result"
    }
   ],
   "source": [
    "1 == 1"
   ]
  },
  {
   "cell_type": "code",
   "execution_count": 22,
   "metadata": {
    "collapsed": false
   },
   "outputs": [
    {
     "data": {
      "text/plain": [
       "False"
      ]
     },
     "execution_count": 22,
     "metadata": {},
     "output_type": "execute_result"
    }
   ],
   "source": [
    "2 < 1 "
   ]
  },
  {
   "cell_type": "markdown",
   "metadata": {},
   "source": [
    "## Data Structures\n",
    "\n",
    "Data Structures allow us to store pieces of data in an efficient way.\n",
    "\n",
    "### Lists\n",
    "\n",
    "Lists allow you to store multiple values in one variable.\n",
    "\n",
    "They are defined by square brackets using `name = [value, value, value]`"
   ]
  },
  {
   "cell_type": "code",
   "execution_count": 19,
   "metadata": {
    "collapsed": false
   },
   "outputs": [
    {
     "name": "stdout",
     "output_type": "stream",
     "text": [
      "['This', 'is', 'a', 'list']\n"
     ]
    }
   ],
   "source": [
    "mylist = [\"This\", \"is\", \"a\", \"list\"]\n",
    "print(mylist)"
   ]
  },
  {
   "cell_type": "markdown",
   "metadata": {},
   "source": [
    "You can select individual values from lists. Python is a *zero-indexed* language, meaning Python starts counting at 0. If you want to select the first value, you need to use **0** rather than **1**. "
   ]
  },
  {
   "cell_type": "code",
   "execution_count": 20,
   "metadata": {
    "collapsed": false
   },
   "outputs": [
    {
     "name": "stdout",
     "output_type": "stream",
     "text": [
      "This\n"
     ]
    }
   ],
   "source": [
    "print(mylist[0])"
   ]
  },
  {
   "cell_type": "markdown",
   "metadata": {},
   "source": [
    "You can add values to a list using `insert(index, value)`."
   ]
  },
  {
   "cell_type": "code",
   "execution_count": 21,
   "metadata": {
    "collapsed": false
   },
   "outputs": [
    {
     "name": "stdout",
     "output_type": "stream",
     "text": [
      "['This', 'is', 'a', 'list', '.']\n"
     ]
    }
   ],
   "source": [
    "mylist.insert(4, \".\")\n",
    "print(mylist)"
   ]
  },
  {
   "cell_type": "markdown",
   "metadata": {},
   "source": [
    "You can remove a value with `remove(value)`. `remove()` does not take an index value, so it will simply remove the first occurrence of that value."
   ]
  },
  {
   "cell_type": "code",
   "execution_count": 22,
   "metadata": {
    "collapsed": false
   },
   "outputs": [
    {
     "name": "stdout",
     "output_type": "stream",
     "text": [
      "['This', 'is', 'list', '.']\n"
     ]
    }
   ],
   "source": [
    "mylist.remove(\"a\")\n",
    "print(mylist)"
   ]
  },
  {
   "cell_type": "markdown",
   "metadata": {},
   "source": [
    "### Dictionaries\n",
    "\n",
    "Dictionaries are *key-value* stores. A key-value store contains a key, which is the name, and a value. The format for this is `key: value`.\n",
    "\n",
    "You declare dictionaries by using `dictionary = {key: values}`."
   ]
  },
  {
   "cell_type": "code",
   "execution_count": 23,
   "metadata": {
    "collapsed": false
   },
   "outputs": [
    {
     "name": "stdout",
     "output_type": "stream",
     "text": [
      "{'first': 'The first value', 'second': 'the second value'}\n"
     ]
    }
   ],
   "source": [
    "mydict = {\"first\": \"The first value\", \"second\": \"the second value\"}\n",
    "print(mydict)"
   ]
  },
  {
   "cell_type": "markdown",
   "metadata": {},
   "source": [
    "You can print specific values from the dictionary by using the notation `name[key]`."
   ]
  },
  {
   "cell_type": "code",
   "execution_count": 24,
   "metadata": {
    "collapsed": false
   },
   "outputs": [
    {
     "name": "stdout",
     "output_type": "stream",
     "text": [
      "The first value\n"
     ]
    }
   ],
   "source": [
    "print(mydict[\"first\"])"
   ]
  },
  {
   "cell_type": "markdown",
   "metadata": {},
   "source": [
    "You can also delete a value using `del name[key]`."
   ]
  },
  {
   "cell_type": "code",
   "execution_count": 25,
   "metadata": {
    "collapsed": false
   },
   "outputs": [
    {
     "name": "stdout",
     "output_type": "stream",
     "text": [
      "{'first': 'The first value'}\n"
     ]
    }
   ],
   "source": [
    "del mydict[\"second\"]\n",
    "print(mydict)"
   ]
  },
  {
   "cell_type": "markdown",
   "metadata": {},
   "source": [
    "## Flow Control\n",
    "\n",
    "Flow control allows you to control the logic of your program. It revolves around *comparison operators*. These operators include: \n",
    "- == (equals)\n",
    "- != (not equals)\n",
    "- <\n",
    "- <=\n",
    "- >\n",
    "- \\>=\n",
    "\n",
    "Each comparison operator returns a boolean value.\n",
    "\n",
    "### If/Else Statements\n",
    "\n",
    "If/Else statements allow us to introduce logic into our programs. An if/else statement will allow you to alter the output of a program depending on the input."
   ]
  },
  {
   "cell_type": "code",
   "execution_count": 26,
   "metadata": {
    "collapsed": false
   },
   "outputs": [
    {
     "name": "stdout",
     "output_type": "stream",
     "text": [
      "a is greater than b\n"
     ]
    }
   ],
   "source": [
    "a = 3\n",
    "b = 2\n",
    "\n",
    "if a > b:\n",
    "    print(\"a is greater than b\")\n",
    "else:\n",
    "    print(\"b is greater than a\")"
   ]
  },
  {
   "cell_type": "markdown",
   "metadata": {},
   "source": [
    "### Else If\n",
    "\n",
    "Else If statements allow you to include multiple tests in an if/else block. Python uses `elif` to define an else if statement."
   ]
  },
  {
   "cell_type": "code",
   "execution_count": 27,
   "metadata": {
    "collapsed": false
   },
   "outputs": [
    {
     "name": "stdout",
     "output_type": "stream",
     "text": [
      "a is equal to b\n"
     ]
    }
   ],
   "source": [
    "a = 3\n",
    "b = 3\n",
    "\n",
    "if a > b:\n",
    "    print(\"a is greater than b\")\n",
    "elif b > a:\n",
    "    print(\"b is greater than a\")\n",
    "else:\n",
    "    print(\"a is equal to b\")"
   ]
  },
  {
   "cell_type": "markdown",
   "metadata": {},
   "source": [
    "### For Loops\n",
    "\n",
    "For loops allow you to iterate over an object, such as a list. You can use this to run through all the values of a list and pick our certain ones.\n",
    "\n",
    "First, we'll define a list to iterate through."
   ]
  },
  {
   "cell_type": "code",
   "execution_count": 3,
   "metadata": {
    "collapsed": true
   },
   "outputs": [],
   "source": [
    "for_list = [1, 2, 2, 3, 4, 5, 6, 2, 2]"
   ]
  },
  {
   "cell_type": "markdown",
   "metadata": {},
   "source": [
    "The syntax is `for name in object`. The name can be anything you want, and the object is what you want to iterate over."
   ]
  },
  {
   "cell_type": "code",
   "execution_count": 4,
   "metadata": {
    "collapsed": false
   },
   "outputs": [
    {
     "name": "stdout",
     "output_type": "stream",
     "text": [
      "1\n",
      "2\n",
      "2\n",
      "3\n",
      "4\n",
      "5\n",
      "6\n",
      "2\n",
      "2\n"
     ]
    }
   ],
   "source": [
    "for item in for_list:\n",
    "    print(item)"
   ]
  },
  {
   "cell_type": "code",
   "execution_count": 5,
   "metadata": {
    "collapsed": false
   },
   "outputs": [
    {
     "name": "stdout",
     "output_type": "stream",
     "text": [
      "2\n",
      "2\n",
      "2\n",
      "2\n"
     ]
    }
   ],
   "source": [
    "for item in for_list:\n",
    "    if item == 2:\n",
    "        print(item)"
   ]
  },
  {
   "cell_type": "markdown",
   "metadata": {},
   "source": [
    "### While Loops\n",
    "\n",
    "While loops allow you to continually perform an action, as long as the expression is true. The notation for a while loop begins with `while` and is followed by an expression."
   ]
  },
  {
   "cell_type": "code",
   "execution_count": 6,
   "metadata": {
    "collapsed": false
   },
   "outputs": [
    {
     "name": "stdout",
     "output_type": "stream",
     "text": [
      "0\n",
      "1\n",
      "2\n",
      "3\n",
      "4\n"
     ]
    }
   ],
   "source": [
    "i = 0\n",
    "while i < 5:\n",
    "    print(i)\n",
    "    i += 1"
   ]
  },
  {
   "cell_type": "markdown",
   "metadata": {},
   "source": [
    "## Functions\n",
    "\n",
    "Functions can be used to call lines of code at later times. Functions are almost like URLs for a website. You type in the one you want, and you get back information. You define a function by using the keyword `def`, following by what you want to name the function."
   ]
  },
  {
   "cell_type": "code",
   "execution_count": 32,
   "metadata": {
    "collapsed": true
   },
   "outputs": [],
   "source": [
    "def myfunction():\n",
    "    print(\"Hi\")"
   ]
  },
  {
   "cell_type": "code",
   "execution_count": 33,
   "metadata": {
    "collapsed": false
   },
   "outputs": [
    {
     "name": "stdout",
     "output_type": "stream",
     "text": [
      "Hi\n"
     ]
    }
   ],
   "source": [
    "myfunction()"
   ]
  },
  {
   "cell_type": "markdown",
   "metadata": {},
   "source": [
    "You can also define your own arguments for a function. Arguments are like file names in URLs. If the name was google.com, then google.com/gmail would be the name followed by your argument. In this case, we are telling Google to give us back information on Gmail."
   ]
  },
  {
   "cell_type": "code",
   "execution_count": 34,
   "metadata": {
    "collapsed": true
   },
   "outputs": [],
   "source": [
    "def myfunction(text):\n",
    "    print(text)"
   ]
  },
  {
   "cell_type": "code",
   "execution_count": 35,
   "metadata": {
    "collapsed": false
   },
   "outputs": [
    {
     "name": "stdout",
     "output_type": "stream",
     "text": [
      "Text goes here\n"
     ]
    }
   ],
   "source": [
    "myfunction(\"Text goes here\")"
   ]
  },
  {
   "cell_type": "markdown",
   "metadata": {},
   "source": [
    "### `return`\n",
    "\n",
    "The `return` keyword allows you to define what a function is supposed to output on completion."
   ]
  },
  {
   "cell_type": "code",
   "execution_count": 36,
   "metadata": {
    "collapsed": true
   },
   "outputs": [],
   "source": [
    "def myfunction():\n",
    "    return \"Here is an example of return\""
   ]
  },
  {
   "cell_type": "code",
   "execution_count": 37,
   "metadata": {
    "collapsed": false
   },
   "outputs": [
    {
     "name": "stdout",
     "output_type": "stream",
     "text": [
      "Here is an example of return\n"
     ]
    }
   ],
   "source": [
    "print(myfunction())"
   ]
  },
  {
   "cell_type": "markdown",
   "metadata": {},
   "source": [
    "## Importing Modules\n",
    "\n",
    "You can import code from other files using the `import` statement. This allows you to reuse code across programs, or to use libraries. Libraries are pieces of software that are meant to be used in different projects. A library might be built for accessing a database, or creating image files of graphs. "
   ]
  },
  {
   "cell_type": "code",
   "execution_count": 38,
   "metadata": {
    "collapsed": true
   },
   "outputs": [],
   "source": [
    "import random"
   ]
  },
  {
   "cell_type": "markdown",
   "metadata": {},
   "source": [
    "We have to use `random.randint()` because the function `randint()` is contained inside the object `random`. When you import a package in Python, it imports the entire object."
   ]
  },
  {
   "cell_type": "code",
   "execution_count": 39,
   "metadata": {
    "collapsed": false
   },
   "outputs": [
    {
     "name": "stdout",
     "output_type": "stream",
     "text": [
      "76\n"
     ]
    }
   ],
   "source": [
    "print(random.randint(0, 100))"
   ]
  },
  {
   "cell_type": "markdown",
   "metadata": {},
   "source": [
    "You can use the `from` statement to import a function by name."
   ]
  },
  {
   "cell_type": "code",
   "execution_count": 40,
   "metadata": {
    "collapsed": true
   },
   "outputs": [],
   "source": [
    "from random import randint"
   ]
  },
  {
   "cell_type": "code",
   "execution_count": 41,
   "metadata": {
    "collapsed": false
   },
   "outputs": [
    {
     "name": "stdout",
     "output_type": "stream",
     "text": [
      "94\n"
     ]
    }
   ],
   "source": [
    "print(randint(0, 100))"
   ]
  },
  {
   "cell_type": "markdown",
   "metadata": {},
   "source": [
    "It's important to know that whether you use a regular `import` statement or you use `from`, the *entire* module is imported both times. You will not speed your program up by using a different syntax. The only difference is the naming. "
   ]
  },
  {
   "cell_type": "markdown",
   "metadata": {},
   "source": [
    "## Who uses Python?\n",
    "\n",
    "- Dropbox\n",
    "- Google\n",
    "- reddit\n",
    "- Vine\n",
    "- Instagram"
   ]
  },
  {
   "cell_type": "markdown",
   "metadata": {},
   "source": [
    "## Next Steps\n",
    "\n",
    "[Codecademy](https://www.codecademy.com/)\n",
    "\n",
    "[Learn Python the Hard Way](http://learnpythonthehardway.org/)\n",
    "\n",
    "[r/learnpython](https://www.reddit.com/r/learnpython)\n",
    "\n",
    "[Coursera Python Specialization](https://www.coursera.org/specializations/python)\n",
    "\n",
    "[Automate the Boring Stuff](https://automatetheboringstuff.com/)"
   ]
  }
 ],
 "metadata": {
  "kernelspec": {
   "display_name": "Python 3",
   "language": "python",
   "name": "python3"
  },
  "language_info": {
   "codemirror_mode": {
    "name": "ipython",
    "version": 3
   },
   "file_extension": ".py",
   "mimetype": "text/x-python",
   "name": "python",
   "nbconvert_exporter": "python",
   "pygments_lexer": "ipython3",
   "version": "3.5.1"
  }
 },
 "nbformat": 4,
 "nbformat_minor": 0
}
